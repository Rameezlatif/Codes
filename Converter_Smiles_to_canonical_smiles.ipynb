{
  "nbformat": 4,
  "nbformat_minor": 0,
  "metadata": {
    "colab": {
      "provenance": []
    },
    "kernelspec": {
      "name": "python3",
      "display_name": "Python 3"
    },
    "language_info": {
      "name": "python"
    }
  },
  "cells": [
    {
      "cell_type": "code",
      "execution_count": 14,
      "metadata": {
        "colab": {
          "base_uri": "https://localhost:8080/"
        },
        "id": "zv8xaabLODl1",
        "outputId": "6e5e7a11-7cfe-47d4-fb2c-f7b56f51a0b1"
      },
      "outputs": [
        {
          "output_type": "stream",
          "name": "stdout",
          "text": [
            "Enter a small molecule SMILES: COC1=CC=C(NC(=O)c2cc(=O)n(C)c(SCC3=CC=CC(C)=C3)n2)C=C1OC\n",
            "Canonical SMILES: COc1ccc(NC(=O)c2cc(=O)n(C)c(SCc3cccc(C)c3)n2)cc1OC\n"
          ]
        }
      ],
      "source": [
        "from rdkit import Chem\n",
        "\n",
        "def get_canonical_smiles(smiles):\n",
        "    # Convert the input SMILES to an RDKit molecule object\n",
        "    mol = Chem.MolFromSmiles(smiles)\n",
        "\n",
        "    # Check if the molecule is None (invalid SMILES)\n",
        "    if mol is None:\n",
        "        return \"Invalid SMILES\"\n",
        "\n",
        "    # Get the canonical SMILES representation of the molecule\n",
        "    canonical_smiles = Chem.MolToSmiles(mol, isomericSmiles=True)\n",
        "\n",
        "    # Compare the input SMILES with the canonical SMILES\n",
        "    if smiles == canonical_smiles:\n",
        "        return \"SMILES is already canonical: \" + smiles\n",
        "    else:\n",
        "        return \"Canonical SMILES: \" + canonical_smiles\n",
        "\n",
        "if __name__ == \"__main__\":\n",
        "    # Input SMILES from the user\n",
        "    input_smiles = input(\"Enter a small molecule SMILES: \")\n",
        "\n",
        "    # Get and print the canonical SMILES\n",
        "    canonical_smiles_result = get_canonical_smiles(input_smiles)\n",
        "    print(canonical_smiles_result)\n",
        "\n"
      ]
    }
  ]
}