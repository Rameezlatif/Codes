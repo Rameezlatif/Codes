{
  "nbformat": 4,
  "nbformat_minor": 0,
  "metadata": {
    "colab": {
      "provenance": []
    },
    "kernelspec": {
      "name": "python3",
      "display_name": "Python 3"
    },
    "language_info": {
      "name": "python"
    }
  },
  "cells": [
    {
      "cell_type": "markdown",
      "source": [
        "Crypto Profit Calculator"
      ],
      "metadata": {
        "id": "mb2gH-zrcmMs"
      }
    },
    {
      "cell_type": "code",
      "execution_count": null,
      "metadata": {
        "id": "RpLv9wt3ch4I"
      },
      "outputs": [],
      "source": [
        "def calculate_crypto_profit(entry_price, exit_price, quantity, transaction_fees):\n",
        "    profit = (exit_price - entry_price) * quantity - transaction_fees\n",
        "    return profit\n",
        "\n",
        "# Example usage:\n",
        "entry_price = 10000  # Replace with your entry price\n",
        "exit_price = 12000  # Replace with your exit price\n",
        "quantity = 1        # Replace with the quantity of cryptocurrency\n",
        "transaction_fees = 10  # Replace with any transaction fees\n",
        "\n",
        "profit = calculate_crypto_profit(entry_price, exit_price, quantity, transaction_fees)\n",
        "\n",
        "print(f\"Profit: ${profit}\")\n"
      ]
    }
  ]
}