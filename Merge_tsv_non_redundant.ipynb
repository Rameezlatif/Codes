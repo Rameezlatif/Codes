{
  "nbformat": 4,
  "nbformat_minor": 0,
  "metadata": {
    "colab": {
      "provenance": []
    },
    "kernelspec": {
      "name": "python3",
      "display_name": "Python 3"
    },
    "language_info": {
      "name": "python"
    }
  },
  "cells": [
    {
      "cell_type": "code",
      "execution_count": null,
      "metadata": {
        "id": "wI1NGOhIPhwu"
      },
      "outputs": [],
      "source": [
        "import pandas as pd\n",
        "\n",
        "# List of filenames to be uploaded manually in the Colab 'files' folder\n",
        "file_names = ['Interleukin_2_clean.tsv', 'Interleukin_4_clean.tsv', 'Interleukin_5_clean.tsv', 'Interleukin_6_clean.tsv', 'Interleukin_13_clean.tsv', 'Interleukin_15_clean.tsv', 'Interleukin_21_clean.tsv']  # Replace these with the actual filenames\n",
        "\n",
        "# Create a list to hold all the dataframes\n",
        "dfs = []\n",
        "\n",
        "# Loop through the list of files and read them into dataframes\n",
        "for file in file_names:\n",
        "    df = pd.read_csv(f'/content/{file}', sep='\\t')\n",
        "    dfs.append(df)\n",
        "\n",
        "# Concatenate all the dataframes into one\n",
        "combined_df = pd.concat(dfs, ignore_index=True)\n",
        "\n",
        "# Drop duplicate rows\n",
        "combined_df = combined_df.drop_duplicates()\n",
        "\n",
        "# Specify the output file name\n",
        "output_file = '/content/combined_file.tsv'\n",
        "\n",
        "# Save the combined dataframe to a new TSV file\n",
        "combined_df.to_csv(output_file, sep='\\t', index=False)\n",
        "\n",
        "print(f'Combined file saved to {output_file}')\n"
      ]
    }
  ]
}